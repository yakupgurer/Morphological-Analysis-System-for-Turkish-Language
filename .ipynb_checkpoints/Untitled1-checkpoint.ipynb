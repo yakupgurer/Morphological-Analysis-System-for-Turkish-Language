{
 "cells": [
  {
   "cell_type": "code",
   "execution_count": 8,
   "id": "a38a737c",
   "metadata": {},
   "outputs": [
    {
     "data": {
      "text/plain": [
       "'katık'"
      ]
     },
     "execution_count": 8,
     "metadata": {},
     "output_type": "execute_result"
    }
   ],
   "source": [
    "from difflib import get_close_matches\n",
    "import numpy as np\n",
    "\n",
    "def correct_input(input_word, path):\n",
    "    #word_list_path = 'C:/dataset.txt'\n",
    "    with open(path, 'r', encoding='utf-8') as word_file:\n",
    "        word_list = [line.strip().split()[0] for line in word_file]\n",
    "        \n",
    "    # Kosinüs benzerliği için bir eşleşme bulma\n",
    "    cosine_matches = get_close_matches(input_word, word_list, n=1, cutoff=0.8)\n",
    "    \n",
    "    if cosine_matches:\n",
    "        return cosine_matches[0]\n",
    "\n",
    "    # Levenshtein mesafesi için bir eşleşme bulma\n",
    "    levenshtein_matches = get_close_matches(input_word, word_list, n=1, cutoff=0.6)\n",
    "    \n",
    "    if levenshtein_matches:\n",
    "        return levenshtein_matches[0]\n",
    "\n",
    "    # Eğer her iki yöntem de bir eşleşme bulamazsa, orijinal kelimeyi döndür\n",
    "    return input_word\n",
    "\n",
    "\n",
    "correct_input(\"egsoz\",\"C:/dataset.txt\")\n",
    "\n"
   ]
  },
  {
   "cell_type": "code",
   "execution_count": null,
   "id": "aa42eccb",
   "metadata": {},
   "outputs": [],
   "source": []
  },
  {
   "cell_type": "code",
   "execution_count": null,
   "id": "455633e2",
   "metadata": {},
   "outputs": [],
   "source": []
  },
  {
   "cell_type": "code",
   "execution_count": null,
   "id": "b97c0314",
   "metadata": {},
   "outputs": [],
   "source": []
  },
  {
   "cell_type": "code",
   "execution_count": null,
   "id": "bc591dac",
   "metadata": {},
   "outputs": [],
   "source": []
  }
 ],
 "metadata": {
  "kernelspec": {
   "display_name": "Python 3 (ipykernel)",
   "language": "python",
   "name": "python3"
  },
  "language_info": {
   "codemirror_mode": {
    "name": "ipython",
    "version": 3
   },
   "file_extension": ".py",
   "mimetype": "text/x-python",
   "name": "python",
   "nbconvert_exporter": "python",
   "pygments_lexer": "ipython3",
   "version": "3.11.5"
  }
 },
 "nbformat": 4,
 "nbformat_minor": 5
}
